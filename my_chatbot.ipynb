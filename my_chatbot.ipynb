{
 "cells": [
  {
   "cell_type": "markdown",
   "id": "c4a61269",
   "metadata": {},
   "source": [
    "##### This is my training project to learn LangGraph agents, the idea is to create an Agent with different tools, then ask it different things and check if is using the tools and the process.\n"
   ]
  },
  {
   "cell_type": "code",
   "execution_count": null,
   "id": "f567a399",
   "metadata": {},
   "outputs": [],
   "source": [
    "# Load variables\n",
    "from dotenv import load_dotenv \n",
    "load_dotenv()\n",
    "import getpass\n",
    "import os\n",
    "\n",
    "if not os.environ.get(\"GOOGLE_API_KEY\"):\n",
    "  os.environ[\"GOOGLE_API_KEY\"] = getpass.getpass(\"Enter API key for Google Gemini: \")\n",
    "\n",
    "os.environ[\"LANGSMITH_TRACING\"] = \"true\"\n",
    "os.environ[\"LANGSMITH_API_KEY\"] = getpass.getpass()"
   ]
  },
  {
   "cell_type": "code",
   "execution_count": null,
   "id": "711387b8",
   "metadata": {},
   "outputs": [],
   "source": [
    "# Define the model\n",
    "from langchain.chat_models import init_chat_model\n",
    "\n",
    "model = init_chat_model(\"gemini-2.0-flash\", model_provider=\"google_genai\")\n"
   ]
  }
 ],
 "metadata": {
  "kernelspec": {
   "display_name": ".venv",
   "language": "python",
   "name": "python3"
  },
  "language_info": {
   "codemirror_mode": {
    "name": "ipython",
    "version": 3
   },
   "file_extension": ".py",
   "mimetype": "text/x-python",
   "name": "python",
   "nbconvert_exporter": "python",
   "pygments_lexer": "ipython3",
   "version": "3.13.4"
  }
 },
 "nbformat": 4,
 "nbformat_minor": 5
}
