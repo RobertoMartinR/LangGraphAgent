{
 "cells": [
  {
   "cell_type": "markdown",
   "id": "c4a61269",
   "metadata": {},
   "source": [
    "##### This is my training project to learn LangGraph agents, the idea is to create an Agent with different tools starting from a basic agent to a full agent with tools and memory, then ask it different things and check if is using the tools and the process.\n"
   ]
  },
  {
   "cell_type": "code",
   "execution_count": null,
   "id": "32183d64",
   "metadata": {},
   "outputs": [],
   "source": [
    "%pip install -U langgraph "
   ]
  },
  {
   "cell_type": "markdown",
   "id": "ddbd1903",
   "metadata": {},
   "source": [
    "## Libraries"
   ]
  },
  {
   "cell_type": "code",
   "execution_count": 5,
   "id": "f567a399",
   "metadata": {},
   "outputs": [],
   "source": [
    "# Load variables\n",
    "from dotenv import load_dotenv \n",
    "load_dotenv()\n",
    "import getpass\n",
    "import os\n",
    "\n",
    "if not os.environ.get(\"GOOGLE_API_KEY\"):\n",
    "  os.environ[\"GOOGLE_API_KEY\"] = getpass.getpass(\"Enter API key for Google Gemini: \")\n",
    "\n",
    "\n",
    "os.environ[\"LANGSMITH_TRACING\"] = \"true\"\n",
    "if \"LANGSMITH_API_KEY\" not in os.environ:\n",
    "    os.environ[\"LANGSMITH_API_KEY\"] = getpass.getpass(\n",
    "        prompt=\"Enter your LangSmith API key (optional): \"\n",
    "    )\n",
    "if \"LANGSMITH_PROJECT\" not in os.environ:\n",
    "    os.environ[\"LANGSMITH_PROJECT\"] = getpass.getpass(\n",
    "        prompt='Enter your LangSmith Project Name (default = \"default\"): '\n",
    "    )\n",
    "    if not os.environ.get(\"LANGSMITH_PROJECT\"):\n",
    "        os.environ[\"LANGSMITH_PROJECT\"] = \"default\""
   ]
  },
  {
   "cell_type": "markdown",
   "id": "f37f79ff",
   "metadata": {},
   "source": [
    "## StateGraph"
   ]
  },
  {
   "cell_type": "code",
   "execution_count": null,
   "id": "9901f1df",
   "metadata": {},
   "outputs": [],
   "source": [
    "# SatateGraph Creation\n",
    "from typing import Annotated\n",
    "\n",
    "from typing_extensions import TypedDict\n",
    "\n",
    "from langgraph.graph import StateGraph, START, END\n",
    "from langgraph.graph.message import add_messages\n",
    "\n",
    "\n",
    "class State(TypedDict):\n",
    "    # Messages have the type \"list\". The `add_messages` function\n",
    "    # in the annotation defines how this state key should be updated\n",
    "    # (in this case, it appends messages to the list, rather than overwriting them)\n",
    "    messages: Annotated[list, add_messages]\n",
    "\n",
    "\n",
    "graph_builder = StateGraph(State)"
   ]
  },
  {
   "cell_type": "markdown",
   "id": "d2eaf8ab",
   "metadata": {},
   "source": [
    "## Define the model\n"
   ]
  },
  {
   "cell_type": "code",
   "execution_count": 2,
   "id": "711387b8",
   "metadata": {},
   "outputs": [],
   "source": [
    "# Define the model\n",
    "from langchain.chat_models import init_chat_model\n",
    "\n",
    "model = init_chat_model(\"gemini-2.0-flash\", model_provider=\"google_genai\")"
   ]
  },
  {
   "cell_type": "markdown",
   "id": "98b39a44",
   "metadata": {},
   "source": [
    "## Define chatbot node"
   ]
  },
  {
   "cell_type": "code",
   "execution_count": null,
   "id": "0c58c5f3",
   "metadata": {},
   "outputs": [],
   "source": [
    "# Define chatbot Node, a node in LangGraph is tipically a regular Python function\n",
    "def chatbot(state: State):\n",
    "    return {\"messages\": [model.invoke(state[\"messages\"])]}\n",
    "\n",
    "# Add the chatbot node to the graph\n",
    "graph_builder.add_node(\"chatbot\", chatbot) # The first argument is the unique node name, the second is the function that will be called\n",
    "# whenever the node is used."
   ]
  },
  {
   "cell_type": "markdown",
   "id": "410fc274",
   "metadata": {},
   "source": [
    "## Entry and exit point"
   ]
  },
  {
   "cell_type": "code",
   "execution_count": null,
   "id": "e0ca1595",
   "metadata": {},
   "outputs": [],
   "source": [
    "# Add an entry and exit point\n",
    "graph_builder.add_node(START, \"chatbot\")\n",
    "graph_builder.add_node(\"chatbot\", END)"
   ]
  },
  {
   "cell_type": "markdown",
   "id": "b94b8203",
   "metadata": {},
   "source": [
    "## Compile the graph"
   ]
  },
  {
   "cell_type": "code",
   "execution_count": null,
   "id": "6e210959",
   "metadata": {},
   "outputs": [],
   "source": [
    "graph = graph_builder.compile()"
   ]
  },
  {
   "cell_type": "markdown",
   "id": "330afcec",
   "metadata": {},
   "source": [
    "## Visualize the graph"
   ]
  },
  {
   "cell_type": "code",
   "execution_count": null,
   "id": "9f404d0c",
   "metadata": {},
   "outputs": [],
   "source": [
    "# LangGraph allows to visualize the graph with the get_graph method\n",
    "from IPython.display import Image, display\n",
    "\n",
    "try:\n",
    "    display(Image(graph.get_graph().draw_mermaid_png()))\n",
    "except Exception:\n",
    "    # This requires some extra dependencies and is optional\n",
    "    pass"
   ]
  }
 ],
 "metadata": {
  "kernelspec": {
   "display_name": ".venv",
   "language": "python",
   "name": "python3"
  },
  "language_info": {
   "codemirror_mode": {
    "name": "ipython",
    "version": 3
   },
   "file_extension": ".py",
   "mimetype": "text/x-python",
   "name": "python",
   "nbconvert_exporter": "python",
   "pygments_lexer": "ipython3",
   "version": "3.13.4"
  }
 },
 "nbformat": 4,
 "nbformat_minor": 5
}
