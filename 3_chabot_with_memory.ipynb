{
 "cells": [
  {
   "cell_type": "markdown",
   "id": "f82639b1",
   "metadata": {},
   "source": [
    "##### Let's now improve our basic bot from the previous notebook by adding memory using LangGraph's checkpointer and thread_id, I'm going to use the same bot from the previous notebook and add memory"
   ]
  },
  {
   "cell_type": "markdown",
   "id": "59f75aca",
   "metadata": {},
   "source": [
    "## Let's load the API Keys \n"
   ]
  },
  {
   "cell_type": "code",
   "execution_count": 12,
   "id": "31172a89",
   "metadata": {},
   "outputs": [],
   "source": [
    "import base64\n",
    "from typing import List, TypedDict, Annotated, Optional\n",
    "from langchain_core.messages import AnyMessage, SystemMessage, HumanMessage\n",
    "from langgraph.graph.message import add_messages\n",
    "from langgraph.graph import START, StateGraph\n",
    "from langgraph.prebuilt import ToolNode, tools_condition\n",
    "from IPython.display import Image, display"
   ]
  },
  {
   "cell_type": "code",
   "execution_count": 13,
   "id": "10e25c09",
   "metadata": {},
   "outputs": [],
   "source": [
    "# Load variables\n",
    "from dotenv import load_dotenv \n",
    "load_dotenv()\n",
    "import getpass\n",
    "import os\n",
    "\n",
    "if not os.environ.get(\"GOOGLE_API_KEY\"):\n",
    "  os.environ[\"GOOGLE_API_KEY\"] = getpass.getpass(\"Enter API key for Google Gemini: \")\n",
    "\n",
    "\n",
    "os.environ[\"LANGSMITH_TRACING\"] = \"true\"\n",
    "if \"LANGSMITH_API_KEY\" not in os.environ:\n",
    "    os.environ[\"LANGSMITH_API_KEY\"] = getpass.getpass(\n",
    "        prompt=\"Enter your LangSmith API key (optional): \"\n",
    "    )\n",
    "if \"LANGSMITH_PROJECT\" not in os.environ:\n",
    "    os.environ[\"LANGSMITH_PROJECT\"] = getpass.getpass(\n",
    "        prompt='Enter your LangSmith Project Name (default = \"default\"): '\n",
    "    )\n",
    "    if not os.environ.get(\"LANGSMITH_PROJECT\"):\n",
    "        os.environ[\"LANGSMITH_PROJECT\"] = \"default\""
   ]
  },
  {
   "cell_type": "markdown",
   "id": "2ba67b61",
   "metadata": {},
   "source": [
    "## Define tools"
   ]
  },
  {
   "cell_type": "code",
   "execution_count": 14,
   "id": "f688f4b3",
   "metadata": {},
   "outputs": [],
   "source": [
    "import requests\n",
    "def search_pokemon(pokemon_name: str) -> str:\n",
    "    \"\"\"Get information about a Pokémon from the PokeAPI.\n",
    "    \n",
    "    Args:\n",
    "        pokemon_name (str): The name of the Pokémon to search for.\n",
    "        Returns:\n",
    "        str: A description of the Pokémon including its type, height, and weight.\n",
    "    \"\"\"\n",
    "    url = f\"https://pokeapi.co/api/v2/pokemon/{pokemon_name.lower()}\"\n",
    "    response = requests.get(url)\n",
    "    if response.status_code == 200:\n",
    "        data = response.json()\n",
    "        return f\"{data['name'].capitalize()} is a {data['types'][0]['type']['name']} type Pokémon with {data['height']} height and {data['weight']} weight.\"\n",
    "    else:\n",
    "        return \"Pokémon not found.\"\n"
   ]
  },
  {
   "cell_type": "code",
   "execution_count": 15,
   "id": "8a926460",
   "metadata": {},
   "outputs": [
    {
     "data": {
      "text/plain": [
       "'Pikachu is a electric type Pokémon with 4 height and 60 weight.'"
      ]
     },
     "execution_count": 15,
     "metadata": {},
     "output_type": "execute_result"
    }
   ],
   "source": [
    "# Output example\n",
    "search_pokemon(\"pikachu\")  # Example usage"
   ]
  },
  {
   "cell_type": "markdown",
   "id": "e362eb6d",
   "metadata": {},
   "source": [
    "## Create StateGraph, bind tools to the model and create the graph"
   ]
  },
  {
   "cell_type": "code",
   "execution_count": 16,
   "id": "58966254",
   "metadata": {},
   "outputs": [],
   "source": [
    "# Define the model\n",
    "from langchain.chat_models import init_chat_model\n",
    "\n",
    "llm = init_chat_model(\"google_genai:gemini-2.0-flash\")"
   ]
  },
  {
   "cell_type": "code",
   "execution_count": 17,
   "id": "4021d828",
   "metadata": {},
   "outputs": [],
   "source": [
    "# Create the checkpointer\n",
    "from langgraph.checkpoint.memory import MemorySaver\n",
    "\n",
    "memory = MemorySaver()"
   ]
  },
  {
   "cell_type": "code",
   "execution_count": 18,
   "id": "3ee4bdea",
   "metadata": {},
   "outputs": [
    {
     "name": "stderr",
     "output_type": "stream",
     "text": [
      "convert_to_genai_function_declarations expects a Sequence and not a single tool.\n"
     ]
    }
   ],
   "source": [
    "from typing import Annotated\n",
    "\n",
    "from typing_extensions import TypedDict\n",
    "\n",
    "from langgraph.graph import StateGraph, START, END\n",
    "from langgraph.graph.message import add_messages\n",
    "\n",
    "class State(TypedDict):\n",
    "    messages: Annotated[list, add_messages]\n",
    "\n",
    "graph_builder = StateGraph(State)\n",
    "\n",
    "tool = search_pokemon\n",
    "tools = [tool]\n",
    "llm_with_tools = llm.bind_tools(tool)\n",
    "\n",
    "from langchain_core.messages import SystemMessage\n",
    "\n",
    "def chatbot(state: State):\n",
    "    # Crear system message si no existe\n",
    "    messages = state[\"messages\"]\n",
    "    \n",
    "    # Verificar si ya hay un system message\n",
    "    if not messages or not isinstance(messages[0], SystemMessage):\n",
    "        system_msg = SystemMessage(content=\"\"\"You are a helpful AI assistant. You can:\n",
    "        1. Have normal conversations about any topic\n",
    "        2. Search for Pokémon information when asked about specific Pokémon\n",
    "        \n",
    "        Use the search_pokemon tool ONLY when the user specifically asks about a Pokémon. \n",
    "        For all other questions, respond normally without using tools.\"\"\")\n",
    "        messages = [system_msg] + messages\n",
    "    \n",
    "    return {\"messages\": [llm_with_tools.invoke(messages)]}\n",
    "\n",
    "graph_builder.add_node(\"chatbot\", chatbot)\n",
    "\n",
    "tool_node = ToolNode(tools=[tool])\n",
    "graph_builder.add_node(\"tools\", tool_node)\n",
    "\n",
    "graph_builder.add_conditional_edges(\n",
    "    \"chatbot\",\n",
    "    tools_condition,\n",
    ")\n",
    "\n",
    "# Define the graph structure\n",
    "graph_builder.add_edge(\"tools\", \"chatbot\")\n",
    "graph_builder.add_edge(START, \"chatbot\")\n",
    "\n",
    "graph = graph_builder.compile(checkpointer=memory) # -> Here we define the checkpointer with the memory obect we created earlier"
   ]
  },
  {
   "cell_type": "markdown",
   "id": "95c4a20a",
   "metadata": {},
   "source": [
    "## Visualize the graph to see the flow we want has been created succesfully"
   ]
  },
  {
   "cell_type": "code",
   "execution_count": 19,
   "id": "4a67946e",
   "metadata": {},
   "outputs": [
    {
     "data": {
      "image/png": "[encoded data removed]",
      "text/plain": [
       "<IPython.core.display.Image object>"
      ]
     },
     "metadata": {},
     "output_type": "display_data"
    }
   ],
   "source": [
    "# LangGraph allows to visualize the graph with the get_graph method\n",
    "from IPython.display import Image, display\n",
    "\n",
    "try:\n",
    "    display(Image(graph.get_graph().draw_mermaid_png()))\n",
    "except Exception:\n",
    "    # This requires some extra dependencies and is optional\n",
    "    pass"
   ]
  },
  {
   "cell_type": "markdown",
   "id": "2ab35ebd",
   "metadata": {},
   "source": [
    "##### As we can see we have the flow we want:\n",
    "\n",
    "- We call the chatbot\n",
    "- It can call a tool or give a response and END\n",
    "- If the bot calls a tool the answer is returned to the bot\n",
    "- This loop continues as long as the model decides to call tools\n",
    "- If the model response is not a tool call, the flow is directed to the END, ending the process"
   ]
  },
  {
   "cell_type": "markdown",
   "id": "dc5253d4",
   "metadata": {},
   "source": [
    "## Now pick a thread to use, the thread will update the state of the graph allowing us to swap between chats by changing the thread_id"
   ]
  },
  {
   "cell_type": "code",
   "execution_count": 20,
   "id": "022015a1",
   "metadata": {},
   "outputs": [],
   "source": [
    "config = {\"configurable\": {\"thread_id\": \"1\"}}"
   ]
  },
  {
   "cell_type": "code",
   "execution_count": null,
   "id": "48766541",
   "metadata": {},
   "outputs": [
    {
     "name": "stdout",
     "output_type": "stream",
     "text": [
      "User: Hi, my name is Roberto\n",
      "Assistant: Hi Roberto, it's nice to meet you! How can I help you today?\n",
      "User: Do you remember my name ?\n",
      "Assistant: Yes, your name is Roberto.\n",
      "User: What can you tell me about alakazam\n",
      "Assistant: \n",
      "User: What can you tell me about alakazam\n",
      "Assistant: Alakazam is a psychic type Pokémon with 15 height and 480 weight.\n",
      "User: What can you tell me about alakazam\n",
      "Assistant: Alakazam is a psychic type Pokémon with 15 height and 480 weight.\n",
      "User: What was the last question\n",
      "Assistant: The last question you asked was \"What can you tell me about alakazam\".\n"
     ]
    },
    {
     "name": "stderr",
     "output_type": "stream",
     "text": [
      "c:\\Proyectos\\AgentsWithLangGraph\\.venv\\Lib\\site-packages\\langchain_google_genai\\chat_models.py:1649: UserWarning: HumanMessage with empty content was removed to prevent API error\n",
      "  warnings.warn(\n"
     ]
    },
    {
     "name": "stdout",
     "output_type": "stream",
     "text": [
      "User: \n",
      "Assistant: \n",
      "Goodbye!\n"
     ]
    }
   ],
   "source": [
    "def stream_graph_updates(user_input: str):\n",
    "    print(\"User:\", user_input)  \n",
    "    \n",
    "    for event in graph.stream({\"messages\": [{\"role\": \"user\", \"content\": user_input}]}, config):\n",
    "        for value in event.values():\n",
    "            \n",
    "            if \"messages\" in value and value[\"messages\"]:\n",
    "                last_message = value[\"messages\"][-1]\n",
    "\n",
    "                if hasattr(last_message, 'content') and last_message.content:\n",
    "                    print(\"Assistant:\", last_message.content)\n",
    "\n",
    "while True:\n",
    "    try:\n",
    "        user_input = input(\"User: \")\n",
    "        if user_input.lower() in [\"quit\", \"exit\", \"q\"]:\n",
    "            print(\"Goodbye!\")\n",
    "            break\n",
    "\n",
    "        stream_graph_updates(user_input)\n",
    "    except:\n",
    "        # fallback if input() is not available\n",
    "        user_input = \"What do you know about LangGraph?\"\n",
    "        print(\"User: \" + user_input)\n",
    "        stream_graph_updates(user_input)\n",
    "        break"
   ]
  },
  {
   "cell_type": "markdown",
   "id": "859a4714",
   "metadata": {},
   "source": [
    "#### As we can see now our chatbot now allow to talk about differente topics and remembers information by adding memory"
   ]
  },
  {
   "cell_type": "markdown",
   "id": "28425867",
   "metadata": {},
   "source": [
    "#### Let's now see what happens if we change the thread_id"
   ]
  },
  {
   "cell_type": "code",
   "execution_count": null,
   "id": "e7b732b7",
   "metadata": {},
   "outputs": [
    {
     "name": "stdout",
     "output_type": "stream",
     "text": [
      "User: Hi\n",
      "Assistant: Hi there! How can I help you today?\n",
      "User: Do you remember my name ?\n",
      "Assistant: As a large language model, I don't have memory of past conversations. So, no, I don't remember your name. You'll have to tell me!\n",
      "Goodbye!\n"
     ]
    }
   ],
   "source": [
    "config = {\"configurable\": {\"thread_id\": \"2\"}}\n",
    "\n",
    "def stream_graph_updates(user_input: str):\n",
    "    print(\"User:\", user_input)  \n",
    "    \n",
    "    for event in graph.stream({\"messages\": [{\"role\": \"user\", \"content\": user_input}]}, config):\n",
    "        for value in event.values():\n",
    "            \n",
    "            if \"messages\" in value and value[\"messages\"]:\n",
    "                last_message = value[\"messages\"][-1]\n",
    "\n",
    "                if hasattr(last_message, 'content') and last_message.content:\n",
    "                    print(\"Assistant:\", last_message.content)\n",
    "\n",
    "while True:\n",
    "    try:\n",
    "        user_input = input(\"User: \")\n",
    "        if user_input.lower() in [\"quit\", \"exit\", \"q\"]:\n",
    "            print(\"Goodbye!\")\n",
    "            break\n",
    "\n",
    "        stream_graph_updates(user_input)\n",
    "    except:\n",
    "        # fallback if input() is not available\n",
    "        user_input = \"What do you know about LangGraph?\"\n",
    "        print(\"User: \" + user_input)\n",
    "        stream_graph_updates(user_input)\n",
    "        break"
   ]
  },
  {
   "cell_type": "markdown",
   "id": "bebdec33",
   "metadata": {},
   "source": [
    "#### As we can see when changing the thread_id it does not remember anything from previous chats but by changing we could come back to the first chat and continue the conversation from last message"
   ]
  }
 ],
 "metadata": {
  "kernelspec": {
   "display_name": ".venv",
   "language": "python",
   "name": "python3"
  },
  "language_info": {
   "codemirror_mode": {
    "name": "ipython",
    "version": 3
   },
   "file_extension": ".py",
   "mimetype": "text/x-python",
   "name": "python",
   "nbconvert_exporter": "python",
   "pygments_lexer": "ipython3",
   "version": "3.13.4"
  }
 },
 "nbformat": 4,
 "nbformat_minor": 5
}
